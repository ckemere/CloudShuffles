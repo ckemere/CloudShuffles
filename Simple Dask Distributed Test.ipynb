{
 "cells": [
  {
   "cell_type": "code",
   "execution_count": 1,
   "metadata": {},
   "outputs": [],
   "source": [
    "# Sequential code\n",
    "from time import sleep\n",
    "def slowinc(x):\n",
    "    sleep(1)  # take a bit of time to simulate real work\n",
    "    return x + 1\n",
    "\n",
    "\n"
   ]
  },
  {
   "cell_type": "code",
   "execution_count": null,
   "metadata": {},
   "outputs": [],
   "source": [
    "[slowinc(i) for i in range(10)]  # this takes 10 seconds\n",
    "\n"
   ]
  },
  {
   "cell_type": "code",
   "execution_count": null,
   "metadata": {},
   "outputs": [],
   "source": [
    "#from joblib import Parallel, delayed\n",
    "#Parallel(n_jobs=4)(delayed(slowinc)(i) for i in range(10))  # this takes 3 seconds\n",
    "\n"
   ]
  },
  {
   "cell_type": "code",
   "execution_count": 2,
   "metadata": {},
   "outputs": [
    {
     "data": {
      "text/html": [
       "<table style=\"border: 2px solid white;\">\n",
       "<tr>\n",
       "<td style=\"vertical-align: top; border: 0px solid white\">\n",
       "<h3>Client</h3>\n",
       "<ul>\n",
       "  <li><b>Scheduler: </b>tcp://104.155.153.59:8786\n",
       "  <li><b>Dashboard: </b><a href='http://104.155.153.59:8787' target='_blank'>http://104.155.153.59:8787</a>\n",
       "</ul>\n",
       "</td>\n",
       "<td style=\"vertical-align: top; border: 0px solid white\">\n",
       "<h3>Cluster</h3>\n",
       "<ul>\n",
       "  <li><b>Workers: </b>8</li>\n",
       "  <li><b>Cores: </b>16</li>\n",
       "  <li><b>Memory: </b>54.19 GB</li>\n",
       "</ul>\n",
       "</td>\n",
       "</tr>\n",
       "</table>"
      ],
      "text/plain": [
       "<Client: scheduler='tcp://104.155.153.59:8786' processes=8 cores=16>"
      ]
     },
     "execution_count": 2,
     "metadata": {},
     "output_type": "execute_result"
    }
   ],
   "source": [
    "from dask.distributed import Client\n",
    "#client = Client()  # set up local cluster on your laptop\n",
    "client = Client('104.155.153.59:8786')\n",
    "client"
   ]
  },
  {
   "cell_type": "code",
   "execution_count": null,
   "metadata": {},
   "outputs": [],
   "source": [
    "client.get_versions(check=True)"
   ]
  },
  {
   "cell_type": "code",
   "execution_count": null,
   "metadata": {
    "collapsed": true
   },
   "outputs": [],
   "source": []
  },
  {
   "cell_type": "code",
   "execution_count": 5,
   "metadata": {},
   "outputs": [
    {
     "name": "stdout",
     "output_type": "stream",
     "text": [
      "[1, 2, 3, 4, 5, 6, 7, 8, 9, 10, 11, 12, 13, 14, 15, 16, 17, 18, 19, 20, 21, 22, 23, 24, 25]\n"
     ]
    },
    {
     "name": "stderr",
     "output_type": "stream",
     "text": [
      "distributed.client - WARNING - Client report stream closed to scheduler\n",
      "distributed.client - WARNING - Client report stream closed to scheduler\n",
      "distributed.client - WARNING - Client report stream closed to scheduler\n",
      "distributed.client - WARNING - Client report stream closed to scheduler\n",
      "distributed.client - WARNING - Client report stream closed to scheduler\n",
      "distributed.client - WARNING - Client report stream closed to scheduler\n",
      "distributed.comm.tcp - WARNING - Closing dangling stream in <TCP local=tcp://10.80.77.249:63656 remote=tcp://104.155.153.59:8786>\n",
      "distributed.client - WARNING - Client report stream closed to scheduler\n",
      "distributed.client - WARNING - Client report stream closed to scheduler\n",
      "distributed.client - WARNING - Client report stream closed to scheduler\n"
     ]
    }
   ],
   "source": [
    "import distributed.joblib\n",
    "from joblib import Parallel, delayed\n",
    "from joblib import parallel_backend\n",
    "\n",
    "with parallel_backend('dask.distributed', scheduler_host='104.155.153.59:8786'):\n",
    "    print(Parallel()(delayed(slowinc)(i) for i in list(range(25))))\n"
   ]
  }
 ],
 "metadata": {
  "kernelspec": {
   "display_name": "Python 3",
   "language": "python",
   "name": "python3"
  },
  "language_info": {
   "codemirror_mode": {
    "name": "ipython",
    "version": 3
   },
   "file_extension": ".py",
   "mimetype": "text/x-python",
   "name": "python",
   "nbconvert_exporter": "python",
   "pygments_lexer": "ipython3",
   "version": "3.6.2"
  }
 },
 "nbformat": 4,
 "nbformat_minor": 2
}
