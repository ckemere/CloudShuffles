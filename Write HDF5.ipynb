{
 "cells": [
  {
   "cell_type": "code",
   "execution_count": 1,
   "metadata": {},
   "outputs": [
    {
     "name": "stderr",
     "output_type": "stream",
     "text": [
      "/Users/ckemere/anaconda3/envs/pandas_19_2/lib/python3.6/site-packages/matplotlib-2.1.0-py3.6-macosx-10.7-x86_64.egg/matplotlib/cbook/deprecation.py:106: MatplotlibDeprecationWarning: The mpl_toolkits.axes_grid module was deprecated in version 2.1. Use mpl_toolkits.axes_grid1 and mpl_toolkits.axisartist provies the same functionality instead.\n"
     ]
    }
   ],
   "source": [
    "import numpy as np\n",
    "import os\n",
    "import pandas as pd\n",
    "import warnings\n",
    "\n",
    "import nelpy as nel\n",
    "\n",
    "#warnings.filterwarnings(\"ignore\")"
   ]
  },
  {
   "cell_type": "code",
   "execution_count": 2,
   "metadata": {},
   "outputs": [
    {
     "data": {
      "text/plain": [
       "'0.19.2'"
      ]
     },
     "execution_count": 2,
     "metadata": {},
     "output_type": "execute_result"
    }
   ],
   "source": [
    "pd.__version__"
   ]
  },
  {
   "cell_type": "code",
   "execution_count": 3,
   "metadata": {},
   "outputs": [],
   "source": [
    "datadirs = ['/Users/ckemere/Development/Data/Buzsaki/']\n",
    "\n",
    "fileroot = next( (dir for dir in datadirs if os.path.isdir(dir)), None)\n",
    "# conda install pandas=0.19.2\n",
    "if fileroot is None:\n",
    "    raise FileNotFoundError('datadir not found')\n",
    "\n",
    "load_from_nel = True\n",
    "\n",
    "# load from nel file:\n",
    "if load_from_nel:\n",
    "    jar = nel.load_pkl(fileroot + 'gor01vvp01_processed_speed.nel')\n",
    "    exp_data = jar.exp_data\n",
    "    aux_data = jar.aux_data\n",
    "    del jar\n",
    "    \n",
    "    jar = nel.load_pkl(fileroot + 'gor01vvp01_tables_speed.nel')\n",
    "    df = jar.df\n",
    "    df2 = jar.df2\n",
    "    del jar"
   ]
  },
  {
   "cell_type": "code",
   "execution_count": 4,
   "metadata": {},
   "outputs": [
    {
     "name": "stderr",
     "output_type": "stream",
     "text": [
      "/Users/ckemere/anaconda3/envs/pandas_19_2/lib/python3.6/site-packages/ipykernel/__main__.py:1: FutureWarning: convert_objects is deprecated.  Use the data-type specific converters pd.to_datetime, pd.to_timedelta and pd.to_numeric.\n"
     ]
    }
   ],
   "source": [
    "df = df.convert_objects(convert_numeric=True)\n",
    "# df2 is already in maximally numeric form"
   ]
  },
  {
   "cell_type": "code",
   "execution_count": 9,
   "metadata": {},
   "outputs": [
    {
     "name": "stderr",
     "output_type": "stream",
     "text": [
      "/Users/ckemere/anaconda3/envs/pandas_19_2/lib/python3.6/site-packages/IPython/core/interactiveshell.py:2802: PerformanceWarning: \n",
      "your performance may suffer as PyTables will pickle object types that it cannot\n",
      "map directly to c-types [inferred_type->mixed,key->block3_values] [items->['animal', 'time', 'track', 'segments', 'segment_labels', 'Notes']]\n",
      "\n"
     ]
    }
   ],
   "source": [
    "with pd.HDFStore('DibaMetadata.h5') as store:\n",
    "    store.put('Session_Metadata',df,format='fixed')\n",
    "    store.append('Subset_Metadata',df2)\n",
    "    "
   ]
  }
 ],
 "metadata": {
  "kernelspec": {
   "display_name": "Python [conda env:pandas_19_2]",
   "language": "python",
   "name": "conda-env-pandas_19_2-py"
  },
  "language_info": {
   "codemirror_mode": {
    "name": "ipython",
    "version": 3
   },
   "file_extension": ".py",
   "mimetype": "text/x-python",
   "name": "python",
   "nbconvert_exporter": "python",
   "pygments_lexer": "ipython3",
   "version": "3.6.3"
  }
 },
 "nbformat": 4,
 "nbformat_minor": 2
}
